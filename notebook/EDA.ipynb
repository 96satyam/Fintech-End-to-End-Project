{
 "cells": [
  {
   "cell_type": "markdown",
   "id": "b4fd17a5",
   "metadata": {},
   "source": [
    "## Transaction Fraud Detection in Personal Finance Systems"
   ]
  },
  {
   "cell_type": "markdown",
   "id": "ac7c7136",
   "metadata": {},
   "source": [
    "### Objective: \n",
    "Building a machine learning model to classify whether a financial transaction is fraudulent or legitimate based on a variety of real-world features (user behavior, merchant type, transaction patterns, location, amount, etc.)."
   ]
  },
  {
   "cell_type": "markdown",
   "id": "19fa4b15",
   "metadata": {},
   "source": [
    "## Why It’s Impactful:\n",
    "#### Real-world relevance: Financial fraud is a massive concern for banks, fintechs, and users.\n",
    "\n",
    "#### Industry alignment: Fraud detection is a top priority in fintech (e.g., PayTM, PhonePe, Razorpay, etc.).\n",
    "\n",
    "#### Machine learning depth: It combines user patterns, anomaly detection, feature engineering, and model interpretability.\n",
    "\n",
    "#### Imbalanced data challenge: Real fraud data is rare, adding another dimension for handling skewed classes."
   ]
  },
  {
   "cell_type": "code",
   "execution_count": 1,
   "id": "6ee5995d",
   "metadata": {},
   "outputs": [],
   "source": [
    "import pandas as pd\n",
    "import numpy as np\n",
    "import matplotlib.pyplot as plt\n",
    "import seaborn as sns"
   ]
  },
  {
   "cell_type": "code",
   "execution_count": 2,
   "id": "aba9fe01",
   "metadata": {},
   "outputs": [
    {
     "data": {
      "text/html": [
       "<div>\n",
       "<style scoped>\n",
       "    .dataframe tbody tr th:only-of-type {\n",
       "        vertical-align: middle;\n",
       "    }\n",
       "\n",
       "    .dataframe tbody tr th {\n",
       "        vertical-align: top;\n",
       "    }\n",
       "\n",
       "    .dataframe thead th {\n",
       "        text-align: right;\n",
       "    }\n",
       "</style>\n",
       "<table border=\"1\" class=\"dataframe\">\n",
       "  <thead>\n",
       "    <tr style=\"text-align: right;\">\n",
       "      <th></th>\n",
       "      <th>transaction_id</th>\n",
       "      <th>user_id</th>\n",
       "      <th>timestamp</th>\n",
       "      <th>amount</th>\n",
       "      <th>merchant</th>\n",
       "      <th>category</th>\n",
       "      <th>payment_method</th>\n",
       "      <th>location</th>\n",
       "      <th>account_type</th>\n",
       "      <th>device_info</th>\n",
       "      <th>is_fraud</th>\n",
       "      <th>fraud_reason</th>\n",
       "    </tr>\n",
       "  </thead>\n",
       "  <tbody>\n",
       "    <tr>\n",
       "      <th>0</th>\n",
       "      <td>7854bd39-45db-4983-9c52-230582b15731</td>\n",
       "      <td>U6385</td>\n",
       "      <td>2023-05-31 05:58:36</td>\n",
       "      <td>1097.00</td>\n",
       "      <td>Water Utility</td>\n",
       "      <td>Bills</td>\n",
       "      <td>UPI</td>\n",
       "      <td>New Daniel, Equatorial Guinea</td>\n",
       "      <td>Business</td>\n",
       "      <td>Tablet</td>\n",
       "      <td>0</td>\n",
       "      <td>NaN</td>\n",
       "    </tr>\n",
       "    <tr>\n",
       "      <th>1</th>\n",
       "      <td>fdef04c1-8262-4c5b-9300-ada2f561eacf</td>\n",
       "      <td>U5151</td>\n",
       "      <td>2025-03-12 21:48:48</td>\n",
       "      <td>736.67</td>\n",
       "      <td>Indigo Airlines</td>\n",
       "      <td>Travel</td>\n",
       "      <td>UPI</td>\n",
       "      <td>Erictown, Swaziland</td>\n",
       "      <td>Credit</td>\n",
       "      <td>Android</td>\n",
       "      <td>0</td>\n",
       "      <td>NaN</td>\n",
       "    </tr>\n",
       "    <tr>\n",
       "      <th>2</th>\n",
       "      <td>a39d1f02-d90a-4d6b-8058-78cbc3847bc1</td>\n",
       "      <td>U2618</td>\n",
       "      <td>2024-03-24 22:07:51</td>\n",
       "      <td>503.83</td>\n",
       "      <td>Electric Company</td>\n",
       "      <td>Bills</td>\n",
       "      <td>Credit Card</td>\n",
       "      <td>Reevesshire, Nigeria</td>\n",
       "      <td>Business</td>\n",
       "      <td>iPhone</td>\n",
       "      <td>0</td>\n",
       "      <td>NaN</td>\n",
       "    </tr>\n",
       "    <tr>\n",
       "      <th>3</th>\n",
       "      <td>f3ff8311-6a42-41d5-9fa5-10e969ea6f4a</td>\n",
       "      <td>U7806</td>\n",
       "      <td>2025-01-25 18:52:05</td>\n",
       "      <td>776.28</td>\n",
       "      <td>NaN</td>\n",
       "      <td>Travel</td>\n",
       "      <td>Debit Card</td>\n",
       "      <td>Lopezburgh, Morocco</td>\n",
       "      <td>Business</td>\n",
       "      <td>Tablet</td>\n",
       "      <td>0</td>\n",
       "      <td>NaN</td>\n",
       "    </tr>\n",
       "    <tr>\n",
       "      <th>4</th>\n",
       "      <td>2c0d5af0-acb3-4bba-82ec-cdaf18e92e24</td>\n",
       "      <td>U1785</td>\n",
       "      <td>2023-10-19 15:13:47</td>\n",
       "      <td>305.88</td>\n",
       "      <td>AT&amp;T</td>\n",
       "      <td>Bills</td>\n",
       "      <td>UPI</td>\n",
       "      <td>Sheriview, Swaziland</td>\n",
       "      <td>Credit</td>\n",
       "      <td>iPhone</td>\n",
       "      <td>0</td>\n",
       "      <td>NaN</td>\n",
       "    </tr>\n",
       "  </tbody>\n",
       "</table>\n",
       "</div>"
      ],
      "text/plain": [
       "                         transaction_id user_id            timestamp   amount  \\\n",
       "0  7854bd39-45db-4983-9c52-230582b15731   U6385  2023-05-31 05:58:36  1097.00   \n",
       "1  fdef04c1-8262-4c5b-9300-ada2f561eacf   U5151  2025-03-12 21:48:48   736.67   \n",
       "2  a39d1f02-d90a-4d6b-8058-78cbc3847bc1   U2618  2024-03-24 22:07:51   503.83   \n",
       "3  f3ff8311-6a42-41d5-9fa5-10e969ea6f4a   U7806  2025-01-25 18:52:05   776.28   \n",
       "4  2c0d5af0-acb3-4bba-82ec-cdaf18e92e24   U1785  2023-10-19 15:13:47   305.88   \n",
       "\n",
       "           merchant category payment_method                       location  \\\n",
       "0     Water Utility    Bills            UPI  New Daniel, Equatorial Guinea   \n",
       "1   Indigo Airlines   Travel            UPI            Erictown, Swaziland   \n",
       "2  Electric Company    Bills    Credit Card           Reevesshire, Nigeria   \n",
       "3               NaN   Travel     Debit Card            Lopezburgh, Morocco   \n",
       "4              AT&T    Bills            UPI           Sheriview, Swaziland   \n",
       "\n",
       "  account_type device_info  is_fraud fraud_reason  \n",
       "0     Business      Tablet         0          NaN  \n",
       "1       Credit     Android         0          NaN  \n",
       "2     Business      iPhone         0          NaN  \n",
       "3     Business      Tablet         0          NaN  \n",
       "4       Credit      iPhone         0          NaN  "
      ]
     },
     "execution_count": 2,
     "metadata": {},
     "output_type": "execute_result"
    }
   ],
   "source": [
    "df = pd.read_csv(r\"C:\\Users\\Hp\\Fintech Project\\notebook\\financial_transactions.csv\")\n",
    "df.head()"
   ]
  },
  {
   "cell_type": "code",
   "execution_count": 3,
   "id": "5ea2b5d2",
   "metadata": {},
   "outputs": [
    {
     "name": "stdout",
     "output_type": "stream",
     "text": [
      "(502489, 12)\n"
     ]
    }
   ],
   "source": [
    "print(df.shape)"
   ]
  },
  {
   "cell_type": "code",
   "execution_count": 4,
   "id": "ecdb04c1",
   "metadata": {},
   "outputs": [
    {
     "name": "stdout",
     "output_type": "stream",
     "text": [
      "Index(['transaction_id', 'user_id', 'timestamp', 'amount', 'merchant',\n",
      "       'category', 'payment_method', 'location', 'account_type', 'device_info',\n",
      "       'is_fraud', 'fraud_reason'],\n",
      "      dtype='object')\n"
     ]
    }
   ],
   "source": [
    "print(df.columns)"
   ]
  },
  {
   "cell_type": "code",
   "execution_count": 5,
   "id": "eea2b191",
   "metadata": {},
   "outputs": [
    {
     "name": "stdout",
     "output_type": "stream",
     "text": [
      "<class 'pandas.core.frame.DataFrame'>\n",
      "RangeIndex: 502489 entries, 0 to 502488\n",
      "Data columns (total 12 columns):\n",
      " #   Column          Non-Null Count   Dtype  \n",
      "---  ------          --------------   -----  \n",
      " 0   transaction_id  502489 non-null  object \n",
      " 1   user_id         502489 non-null  object \n",
      " 2   timestamp       502489 non-null  object \n",
      " 3   amount          477550 non-null  float64\n",
      " 4   merchant        487468 non-null  object \n",
      " 5   category        502489 non-null  object \n",
      " 6   payment_method  502489 non-null  object \n",
      " 7   location        502489 non-null  object \n",
      " 8   account_type    502489 non-null  object \n",
      " 9   device_info     502489 non-null  object \n",
      " 10  is_fraud        502489 non-null  int64  \n",
      " 11  fraud_reason    9965 non-null    object \n",
      "dtypes: float64(1), int64(1), object(10)\n",
      "memory usage: 46.0+ MB\n"
     ]
    }
   ],
   "source": [
    "df.info()"
   ]
  },
  {
   "cell_type": "code",
   "execution_count": 7,
   "id": "02f3d658",
   "metadata": {},
   "outputs": [
    {
     "data": {
      "text/html": [
       "<div>\n",
       "<style scoped>\n",
       "    .dataframe tbody tr th:only-of-type {\n",
       "        vertical-align: middle;\n",
       "    }\n",
       "\n",
       "    .dataframe tbody tr th {\n",
       "        vertical-align: top;\n",
       "    }\n",
       "\n",
       "    .dataframe thead th {\n",
       "        text-align: right;\n",
       "    }\n",
       "</style>\n",
       "<table border=\"1\" class=\"dataframe\">\n",
       "  <thead>\n",
       "    <tr style=\"text-align: right;\">\n",
       "      <th></th>\n",
       "      <th>amount</th>\n",
       "      <th>is_fraud</th>\n",
       "    </tr>\n",
       "  </thead>\n",
       "  <tbody>\n",
       "    <tr>\n",
       "      <th>count</th>\n",
       "      <td>477550.000000</td>\n",
       "      <td>502489.000000</td>\n",
       "    </tr>\n",
       "    <tr>\n",
       "      <th>mean</th>\n",
       "      <td>499.021168</td>\n",
       "      <td>0.019831</td>\n",
       "    </tr>\n",
       "    <tr>\n",
       "      <th>std</th>\n",
       "      <td>499.088898</td>\n",
       "      <td>0.139420</td>\n",
       "    </tr>\n",
       "    <tr>\n",
       "      <th>min</th>\n",
       "      <td>0.000000</td>\n",
       "      <td>0.000000</td>\n",
       "    </tr>\n",
       "    <tr>\n",
       "      <th>25%</th>\n",
       "      <td>143.230000</td>\n",
       "      <td>0.000000</td>\n",
       "    </tr>\n",
       "    <tr>\n",
       "      <th>50%</th>\n",
       "      <td>345.460000</td>\n",
       "      <td>0.000000</td>\n",
       "    </tr>\n",
       "    <tr>\n",
       "      <th>75%</th>\n",
       "      <td>692.170000</td>\n",
       "      <td>0.000000</td>\n",
       "    </tr>\n",
       "    <tr>\n",
       "      <th>max</th>\n",
       "      <td>6387.090000</td>\n",
       "      <td>1.000000</td>\n",
       "    </tr>\n",
       "  </tbody>\n",
       "</table>\n",
       "</div>"
      ],
      "text/plain": [
       "              amount       is_fraud\n",
       "count  477550.000000  502489.000000\n",
       "mean      499.021168       0.019831\n",
       "std       499.088898       0.139420\n",
       "min         0.000000       0.000000\n",
       "25%       143.230000       0.000000\n",
       "50%       345.460000       0.000000\n",
       "75%       692.170000       0.000000\n",
       "max      6387.090000       1.000000"
      ]
     },
     "execution_count": 7,
     "metadata": {},
     "output_type": "execute_result"
    }
   ],
   "source": [
    "df.describe()"
   ]
  },
  {
   "cell_type": "markdown",
   "id": "d5699c5c",
   "metadata": {},
   "source": [
    "### Dropping unnecessary columns"
   ]
  },
  {
   "cell_type": "code",
   "execution_count": 8,
   "id": "d7a75572",
   "metadata": {},
   "outputs": [],
   "source": [
    "df = df.drop(columns=['transaction_id','user_id','location'], axis =1)"
   ]
  },
  {
   "cell_type": "code",
   "execution_count": 9,
   "id": "d0694f0f",
   "metadata": {},
   "outputs": [
    {
     "data": {
      "text/html": [
       "<div>\n",
       "<style scoped>\n",
       "    .dataframe tbody tr th:only-of-type {\n",
       "        vertical-align: middle;\n",
       "    }\n",
       "\n",
       "    .dataframe tbody tr th {\n",
       "        vertical-align: top;\n",
       "    }\n",
       "\n",
       "    .dataframe thead th {\n",
       "        text-align: right;\n",
       "    }\n",
       "</style>\n",
       "<table border=\"1\" class=\"dataframe\">\n",
       "  <thead>\n",
       "    <tr style=\"text-align: right;\">\n",
       "      <th></th>\n",
       "      <th>timestamp</th>\n",
       "      <th>amount</th>\n",
       "      <th>merchant</th>\n",
       "      <th>category</th>\n",
       "      <th>payment_method</th>\n",
       "      <th>account_type</th>\n",
       "      <th>device_info</th>\n",
       "      <th>is_fraud</th>\n",
       "      <th>fraud_reason</th>\n",
       "    </tr>\n",
       "  </thead>\n",
       "  <tbody>\n",
       "    <tr>\n",
       "      <th>0</th>\n",
       "      <td>2023-05-31 05:58:36</td>\n",
       "      <td>1097.00</td>\n",
       "      <td>Water Utility</td>\n",
       "      <td>Bills</td>\n",
       "      <td>UPI</td>\n",
       "      <td>Business</td>\n",
       "      <td>Tablet</td>\n",
       "      <td>0</td>\n",
       "      <td>NaN</td>\n",
       "    </tr>\n",
       "    <tr>\n",
       "      <th>1</th>\n",
       "      <td>2025-03-12 21:48:48</td>\n",
       "      <td>736.67</td>\n",
       "      <td>Indigo Airlines</td>\n",
       "      <td>Travel</td>\n",
       "      <td>UPI</td>\n",
       "      <td>Credit</td>\n",
       "      <td>Android</td>\n",
       "      <td>0</td>\n",
       "      <td>NaN</td>\n",
       "    </tr>\n",
       "    <tr>\n",
       "      <th>2</th>\n",
       "      <td>2024-03-24 22:07:51</td>\n",
       "      <td>503.83</td>\n",
       "      <td>Electric Company</td>\n",
       "      <td>Bills</td>\n",
       "      <td>Credit Card</td>\n",
       "      <td>Business</td>\n",
       "      <td>iPhone</td>\n",
       "      <td>0</td>\n",
       "      <td>NaN</td>\n",
       "    </tr>\n",
       "    <tr>\n",
       "      <th>3</th>\n",
       "      <td>2025-01-25 18:52:05</td>\n",
       "      <td>776.28</td>\n",
       "      <td>NaN</td>\n",
       "      <td>Travel</td>\n",
       "      <td>Debit Card</td>\n",
       "      <td>Business</td>\n",
       "      <td>Tablet</td>\n",
       "      <td>0</td>\n",
       "      <td>NaN</td>\n",
       "    </tr>\n",
       "    <tr>\n",
       "      <th>4</th>\n",
       "      <td>2023-10-19 15:13:47</td>\n",
       "      <td>305.88</td>\n",
       "      <td>AT&amp;T</td>\n",
       "      <td>Bills</td>\n",
       "      <td>UPI</td>\n",
       "      <td>Credit</td>\n",
       "      <td>iPhone</td>\n",
       "      <td>0</td>\n",
       "      <td>NaN</td>\n",
       "    </tr>\n",
       "  </tbody>\n",
       "</table>\n",
       "</div>"
      ],
      "text/plain": [
       "             timestamp   amount          merchant category payment_method  \\\n",
       "0  2023-05-31 05:58:36  1097.00     Water Utility    Bills            UPI   \n",
       "1  2025-03-12 21:48:48   736.67   Indigo Airlines   Travel            UPI   \n",
       "2  2024-03-24 22:07:51   503.83  Electric Company    Bills    Credit Card   \n",
       "3  2025-01-25 18:52:05   776.28               NaN   Travel     Debit Card   \n",
       "4  2023-10-19 15:13:47   305.88              AT&T    Bills            UPI   \n",
       "\n",
       "  account_type device_info  is_fraud fraud_reason  \n",
       "0     Business      Tablet         0          NaN  \n",
       "1       Credit     Android         0          NaN  \n",
       "2     Business      iPhone         0          NaN  \n",
       "3     Business      Tablet         0          NaN  \n",
       "4       Credit      iPhone         0          NaN  "
      ]
     },
     "execution_count": 9,
     "metadata": {},
     "output_type": "execute_result"
    }
   ],
   "source": [
    "df.head()"
   ]
  },
  {
   "cell_type": "markdown",
   "id": "a61ddab3",
   "metadata": {},
   "source": [
    "### Updating datatypes"
   ]
  },
  {
   "cell_type": "code",
   "execution_count": 10,
   "id": "a8bf2a76",
   "metadata": {},
   "outputs": [
    {
     "name": "stdout",
     "output_type": "stream",
     "text": [
      "<class 'pandas.core.frame.DataFrame'>\n",
      "RangeIndex: 502489 entries, 0 to 502488\n",
      "Data columns (total 9 columns):\n",
      " #   Column          Non-Null Count   Dtype  \n",
      "---  ------          --------------   -----  \n",
      " 0   timestamp       502489 non-null  object \n",
      " 1   amount          477550 non-null  float64\n",
      " 2   merchant        487468 non-null  object \n",
      " 3   category        502489 non-null  object \n",
      " 4   payment_method  502489 non-null  object \n",
      " 5   account_type    502489 non-null  object \n",
      " 6   device_info     502489 non-null  object \n",
      " 7   is_fraud        502489 non-null  int64  \n",
      " 8   fraud_reason    9965 non-null    object \n",
      "dtypes: float64(1), int64(1), object(7)\n",
      "memory usage: 34.5+ MB\n"
     ]
    }
   ],
   "source": [
    "df.info()"
   ]
  },
  {
   "cell_type": "code",
   "execution_count": 12,
   "id": "7de2ac63",
   "metadata": {},
   "outputs": [],
   "source": [
    "# Updating timestamp from object to datetime\n",
    "\n",
    "df['timestamp'] = pd.to_datetime(df['timestamp'])"
   ]
  },
  {
   "cell_type": "code",
   "execution_count": 13,
   "id": "edbf074e",
   "metadata": {},
   "outputs": [
    {
     "name": "stdout",
     "output_type": "stream",
     "text": [
      "<class 'pandas.core.frame.DataFrame'>\n",
      "RangeIndex: 502489 entries, 0 to 502488\n",
      "Data columns (total 9 columns):\n",
      " #   Column          Non-Null Count   Dtype         \n",
      "---  ------          --------------   -----         \n",
      " 0   timestamp       502489 non-null  datetime64[ns]\n",
      " 1   amount          477550 non-null  float64       \n",
      " 2   merchant        487468 non-null  object        \n",
      " 3   category        502489 non-null  object        \n",
      " 4   payment_method  502489 non-null  object        \n",
      " 5   account_type    502489 non-null  object        \n",
      " 6   device_info     502489 non-null  object        \n",
      " 7   is_fraud        502489 non-null  int64         \n",
      " 8   fraud_reason    9965 non-null    object        \n",
      "dtypes: datetime64[ns](1), float64(1), int64(1), object(6)\n",
      "memory usage: 34.5+ MB\n"
     ]
    }
   ],
   "source": [
    "df.info()"
   ]
  },
  {
   "cell_type": "code",
   "execution_count": 14,
   "id": "66130b88",
   "metadata": {},
   "outputs": [],
   "source": [
    "df['year'] = df['timestamp'].dt.year\n",
    "df['month'] = df['timestamp'].dt.month"
   ]
  },
  {
   "cell_type": "code",
   "execution_count": 15,
   "id": "230e160c",
   "metadata": {},
   "outputs": [
    {
     "data": {
      "text/html": [
       "<div>\n",
       "<style scoped>\n",
       "    .dataframe tbody tr th:only-of-type {\n",
       "        vertical-align: middle;\n",
       "    }\n",
       "\n",
       "    .dataframe tbody tr th {\n",
       "        vertical-align: top;\n",
       "    }\n",
       "\n",
       "    .dataframe thead th {\n",
       "        text-align: right;\n",
       "    }\n",
       "</style>\n",
       "<table border=\"1\" class=\"dataframe\">\n",
       "  <thead>\n",
       "    <tr style=\"text-align: right;\">\n",
       "      <th></th>\n",
       "      <th>timestamp</th>\n",
       "      <th>amount</th>\n",
       "      <th>merchant</th>\n",
       "      <th>category</th>\n",
       "      <th>payment_method</th>\n",
       "      <th>account_type</th>\n",
       "      <th>device_info</th>\n",
       "      <th>is_fraud</th>\n",
       "      <th>fraud_reason</th>\n",
       "      <th>year</th>\n",
       "      <th>month</th>\n",
       "    </tr>\n",
       "  </thead>\n",
       "  <tbody>\n",
       "    <tr>\n",
       "      <th>0</th>\n",
       "      <td>2023-05-31 05:58:36</td>\n",
       "      <td>1097.00</td>\n",
       "      <td>Water Utility</td>\n",
       "      <td>Bills</td>\n",
       "      <td>UPI</td>\n",
       "      <td>Business</td>\n",
       "      <td>Tablet</td>\n",
       "      <td>0</td>\n",
       "      <td>NaN</td>\n",
       "      <td>2023</td>\n",
       "      <td>5</td>\n",
       "    </tr>\n",
       "    <tr>\n",
       "      <th>1</th>\n",
       "      <td>2025-03-12 21:48:48</td>\n",
       "      <td>736.67</td>\n",
       "      <td>Indigo Airlines</td>\n",
       "      <td>Travel</td>\n",
       "      <td>UPI</td>\n",
       "      <td>Credit</td>\n",
       "      <td>Android</td>\n",
       "      <td>0</td>\n",
       "      <td>NaN</td>\n",
       "      <td>2025</td>\n",
       "      <td>3</td>\n",
       "    </tr>\n",
       "    <tr>\n",
       "      <th>2</th>\n",
       "      <td>2024-03-24 22:07:51</td>\n",
       "      <td>503.83</td>\n",
       "      <td>Electric Company</td>\n",
       "      <td>Bills</td>\n",
       "      <td>Credit Card</td>\n",
       "      <td>Business</td>\n",
       "      <td>iPhone</td>\n",
       "      <td>0</td>\n",
       "      <td>NaN</td>\n",
       "      <td>2024</td>\n",
       "      <td>3</td>\n",
       "    </tr>\n",
       "    <tr>\n",
       "      <th>3</th>\n",
       "      <td>2025-01-25 18:52:05</td>\n",
       "      <td>776.28</td>\n",
       "      <td>NaN</td>\n",
       "      <td>Travel</td>\n",
       "      <td>Debit Card</td>\n",
       "      <td>Business</td>\n",
       "      <td>Tablet</td>\n",
       "      <td>0</td>\n",
       "      <td>NaN</td>\n",
       "      <td>2025</td>\n",
       "      <td>1</td>\n",
       "    </tr>\n",
       "    <tr>\n",
       "      <th>4</th>\n",
       "      <td>2023-10-19 15:13:47</td>\n",
       "      <td>305.88</td>\n",
       "      <td>AT&amp;T</td>\n",
       "      <td>Bills</td>\n",
       "      <td>UPI</td>\n",
       "      <td>Credit</td>\n",
       "      <td>iPhone</td>\n",
       "      <td>0</td>\n",
       "      <td>NaN</td>\n",
       "      <td>2023</td>\n",
       "      <td>10</td>\n",
       "    </tr>\n",
       "  </tbody>\n",
       "</table>\n",
       "</div>"
      ],
      "text/plain": [
       "            timestamp   amount          merchant category payment_method  \\\n",
       "0 2023-05-31 05:58:36  1097.00     Water Utility    Bills            UPI   \n",
       "1 2025-03-12 21:48:48   736.67   Indigo Airlines   Travel            UPI   \n",
       "2 2024-03-24 22:07:51   503.83  Electric Company    Bills    Credit Card   \n",
       "3 2025-01-25 18:52:05   776.28               NaN   Travel     Debit Card   \n",
       "4 2023-10-19 15:13:47   305.88              AT&T    Bills            UPI   \n",
       "\n",
       "  account_type device_info  is_fraud fraud_reason  year  month  \n",
       "0     Business      Tablet         0          NaN  2023      5  \n",
       "1       Credit     Android         0          NaN  2025      3  \n",
       "2     Business      iPhone         0          NaN  2024      3  \n",
       "3     Business      Tablet         0          NaN  2025      1  \n",
       "4       Credit      iPhone         0          NaN  2023     10  "
      ]
     },
     "execution_count": 15,
     "metadata": {},
     "output_type": "execute_result"
    }
   ],
   "source": [
    "df.head()"
   ]
  },
  {
   "cell_type": "code",
   "execution_count": 17,
   "id": "12c7ffc6",
   "metadata": {},
   "outputs": [],
   "source": [
    "# Dropping timestamp\n",
    "df  = df.drop(columns = ['timestamp'], axis  = 1)"
   ]
  },
  {
   "cell_type": "code",
   "execution_count": 18,
   "id": "51780eaa",
   "metadata": {},
   "outputs": [
    {
     "data": {
      "text/html": [
       "<div>\n",
       "<style scoped>\n",
       "    .dataframe tbody tr th:only-of-type {\n",
       "        vertical-align: middle;\n",
       "    }\n",
       "\n",
       "    .dataframe tbody tr th {\n",
       "        vertical-align: top;\n",
       "    }\n",
       "\n",
       "    .dataframe thead th {\n",
       "        text-align: right;\n",
       "    }\n",
       "</style>\n",
       "<table border=\"1\" class=\"dataframe\">\n",
       "  <thead>\n",
       "    <tr style=\"text-align: right;\">\n",
       "      <th></th>\n",
       "      <th>amount</th>\n",
       "      <th>merchant</th>\n",
       "      <th>category</th>\n",
       "      <th>payment_method</th>\n",
       "      <th>account_type</th>\n",
       "      <th>device_info</th>\n",
       "      <th>is_fraud</th>\n",
       "      <th>fraud_reason</th>\n",
       "      <th>year</th>\n",
       "      <th>month</th>\n",
       "    </tr>\n",
       "  </thead>\n",
       "  <tbody>\n",
       "    <tr>\n",
       "      <th>0</th>\n",
       "      <td>1097.00</td>\n",
       "      <td>Water Utility</td>\n",
       "      <td>Bills</td>\n",
       "      <td>UPI</td>\n",
       "      <td>Business</td>\n",
       "      <td>Tablet</td>\n",
       "      <td>0</td>\n",
       "      <td>NaN</td>\n",
       "      <td>2023</td>\n",
       "      <td>5</td>\n",
       "    </tr>\n",
       "    <tr>\n",
       "      <th>1</th>\n",
       "      <td>736.67</td>\n",
       "      <td>Indigo Airlines</td>\n",
       "      <td>Travel</td>\n",
       "      <td>UPI</td>\n",
       "      <td>Credit</td>\n",
       "      <td>Android</td>\n",
       "      <td>0</td>\n",
       "      <td>NaN</td>\n",
       "      <td>2025</td>\n",
       "      <td>3</td>\n",
       "    </tr>\n",
       "    <tr>\n",
       "      <th>2</th>\n",
       "      <td>503.83</td>\n",
       "      <td>Electric Company</td>\n",
       "      <td>Bills</td>\n",
       "      <td>Credit Card</td>\n",
       "      <td>Business</td>\n",
       "      <td>iPhone</td>\n",
       "      <td>0</td>\n",
       "      <td>NaN</td>\n",
       "      <td>2024</td>\n",
       "      <td>3</td>\n",
       "    </tr>\n",
       "    <tr>\n",
       "      <th>3</th>\n",
       "      <td>776.28</td>\n",
       "      <td>NaN</td>\n",
       "      <td>Travel</td>\n",
       "      <td>Debit Card</td>\n",
       "      <td>Business</td>\n",
       "      <td>Tablet</td>\n",
       "      <td>0</td>\n",
       "      <td>NaN</td>\n",
       "      <td>2025</td>\n",
       "      <td>1</td>\n",
       "    </tr>\n",
       "    <tr>\n",
       "      <th>4</th>\n",
       "      <td>305.88</td>\n",
       "      <td>AT&amp;T</td>\n",
       "      <td>Bills</td>\n",
       "      <td>UPI</td>\n",
       "      <td>Credit</td>\n",
       "      <td>iPhone</td>\n",
       "      <td>0</td>\n",
       "      <td>NaN</td>\n",
       "      <td>2023</td>\n",
       "      <td>10</td>\n",
       "    </tr>\n",
       "  </tbody>\n",
       "</table>\n",
       "</div>"
      ],
      "text/plain": [
       "    amount          merchant category payment_method account_type device_info  \\\n",
       "0  1097.00     Water Utility    Bills            UPI     Business      Tablet   \n",
       "1   736.67   Indigo Airlines   Travel            UPI       Credit     Android   \n",
       "2   503.83  Electric Company    Bills    Credit Card     Business      iPhone   \n",
       "3   776.28               NaN   Travel     Debit Card     Business      Tablet   \n",
       "4   305.88              AT&T    Bills            UPI       Credit      iPhone   \n",
       "\n",
       "   is_fraud fraud_reason  year  month  \n",
       "0         0          NaN  2023      5  \n",
       "1         0          NaN  2025      3  \n",
       "2         0          NaN  2024      3  \n",
       "3         0          NaN  2025      1  \n",
       "4         0          NaN  2023     10  "
      ]
     },
     "execution_count": 18,
     "metadata": {},
     "output_type": "execute_result"
    }
   ],
   "source": [
    "df.head()"
   ]
  },
  {
   "cell_type": "markdown",
   "id": "93abcf1e",
   "metadata": {},
   "source": [
    "### Checking Missing Values"
   ]
  },
  {
   "cell_type": "code",
   "execution_count": 21,
   "id": "59b74672",
   "metadata": {},
   "outputs": [
    {
     "data": {
      "text/plain": [
       "fraud_reason      492524\n",
       "amount             24939\n",
       "merchant           15021\n",
       "category               0\n",
       "account_type           0\n",
       "payment_method         0\n",
       "device_info            0\n",
       "is_fraud               0\n",
       "year                   0\n",
       "month                  0\n",
       "dtype: int64"
      ]
     },
     "execution_count": 21,
     "metadata": {},
     "output_type": "execute_result"
    }
   ],
   "source": [
    "missing = df.isnull().sum().sort_values(ascending=False)\n",
    "missing"
   ]
  },
  {
   "cell_type": "code",
   "execution_count": 22,
   "id": "f9d9699b",
   "metadata": {},
   "outputs": [
    {
     "data": {
      "text/plain": [
       "fraud_reason      98.016872\n",
       "amount             4.963094\n",
       "merchant           2.989319\n",
       "category           0.000000\n",
       "account_type       0.000000\n",
       "payment_method     0.000000\n",
       "device_info        0.000000\n",
       "is_fraud           0.000000\n",
       "year               0.000000\n",
       "month              0.000000\n",
       "dtype: float64"
      ]
     },
     "execution_count": 22,
     "metadata": {},
     "output_type": "execute_result"
    }
   ],
   "source": [
    "missing_percent = (missing/len(df))*100\n",
    "missing_percent"
   ]
  },
  {
   "cell_type": "code",
   "execution_count": 23,
   "id": "5a578dd0",
   "metadata": {},
   "outputs": [
    {
     "name": "stderr",
     "output_type": "stream",
     "text": [
      "C:\\Users\\Hp\\AppData\\Local\\Temp\\ipykernel_13232\\1163277349.py:5: FutureWarning: A value is trying to be set on a copy of a DataFrame or Series through chained assignment using an inplace method.\n",
      "The behavior will change in pandas 3.0. This inplace method will never work because the intermediate object on which we are setting values always behaves as a copy.\n",
      "\n",
      "For example, when doing 'df[col].method(value, inplace=True)', try using 'df.method({col: value}, inplace=True)' or df[col] = df[col].method(value) instead, to perform the operation inplace on the original object.\n",
      "\n",
      "\n",
      "  df['merchant'].fillna('Unknown', inplace=True)\n"
     ]
    }
   ],
   "source": [
    "# Handling missing values\n",
    "# 1. Dropping fraud_reason columns\n",
    "df = df.drop(columns = ['fraud_reason'], axis =1)\n",
    "df['amount'] = df.groupby('category')['amount'].transform(lambda x: x.fillna(x.median()))\n",
    "df['merchant'].fillna('Unknown', inplace=True)"
   ]
  },
  {
   "cell_type": "code",
   "execution_count": 24,
   "id": "53af1481",
   "metadata": {},
   "outputs": [
    {
     "data": {
      "text/plain": [
       "amount            0\n",
       "merchant          0\n",
       "category          0\n",
       "payment_method    0\n",
       "account_type      0\n",
       "device_info       0\n",
       "is_fraud          0\n",
       "year              0\n",
       "month             0\n",
       "dtype: int64"
      ]
     },
     "execution_count": 24,
     "metadata": {},
     "output_type": "execute_result"
    }
   ],
   "source": [
    "missing = df.isnull().sum().sort_values(ascending=False)\n",
    "missing"
   ]
  },
  {
   "cell_type": "markdown",
   "id": "c008522d",
   "metadata": {},
   "source": [
    "### Handling Duplicate "
   ]
  },
  {
   "cell_type": "code",
   "execution_count": 26,
   "id": "2e284743",
   "metadata": {},
   "outputs": [
    {
     "data": {
      "text/plain": [
       "np.int64(5908)"
      ]
     },
     "execution_count": 26,
     "metadata": {},
     "output_type": "execute_result"
    }
   ],
   "source": [
    "df.duplicated().sum()"
   ]
  },
  {
   "cell_type": "code",
   "execution_count": 27,
   "id": "217c8fbf",
   "metadata": {},
   "outputs": [],
   "source": [
    "# Dropping duplicate records\n",
    "\n",
    "df = df.drop_duplicates()"
   ]
  },
  {
   "cell_type": "code",
   "execution_count": 28,
   "id": "ca0d3f67",
   "metadata": {},
   "outputs": [
    {
     "data": {
      "text/plain": [
       "np.int64(0)"
      ]
     },
     "execution_count": 28,
     "metadata": {},
     "output_type": "execute_result"
    }
   ],
   "source": [
    "df.duplicated().sum()"
   ]
  },
  {
   "cell_type": "code",
   "execution_count": 30,
   "id": "3dc7f540",
   "metadata": {},
   "outputs": [
    {
     "data": {
      "text/plain": [
       "(496581, 9)"
      ]
     },
     "execution_count": 30,
     "metadata": {},
     "output_type": "execute_result"
    }
   ],
   "source": [
    "df.shape"
   ]
  },
  {
   "cell_type": "code",
   "execution_count": 31,
   "id": "7f43ced3",
   "metadata": {},
   "outputs": [
    {
     "data": {
      "text/plain": [
       "Index(['amount', 'merchant', 'category', 'payment_method', 'account_type',\n",
       "       'device_info', 'is_fraud', 'year', 'month'],\n",
       "      dtype='object')"
      ]
     },
     "execution_count": 31,
     "metadata": {},
     "output_type": "execute_result"
    }
   ],
   "source": [
    "df.columns"
   ]
  },
  {
   "cell_type": "code",
   "execution_count": 32,
   "id": "f9880a2f",
   "metadata": {},
   "outputs": [
    {
     "name": "stdout",
     "output_type": "stream",
     "text": [
      "<class 'pandas.core.frame.DataFrame'>\n",
      "Index: 496581 entries, 0 to 502488\n",
      "Data columns (total 9 columns):\n",
      " #   Column          Non-Null Count   Dtype  \n",
      "---  ------          --------------   -----  \n",
      " 0   amount          496581 non-null  float64\n",
      " 1   merchant        496581 non-null  object \n",
      " 2   category        496581 non-null  object \n",
      " 3   payment_method  496581 non-null  object \n",
      " 4   account_type    496581 non-null  object \n",
      " 5   device_info     496581 non-null  object \n",
      " 6   is_fraud        496581 non-null  int64  \n",
      " 7   year            496581 non-null  int32  \n",
      " 8   month           496581 non-null  int32  \n",
      "dtypes: float64(1), int32(2), int64(1), object(5)\n",
      "memory usage: 34.1+ MB\n"
     ]
    }
   ],
   "source": [
    "df.info()"
   ]
  },
  {
   "cell_type": "markdown",
   "id": "349a7a17",
   "metadata": {},
   "source": [
    "## Checking  Class Distribution"
   ]
  },
  {
   "cell_type": "code",
   "execution_count": 33,
   "id": "b3b2a16a",
   "metadata": {},
   "outputs": [
    {
     "data": {
      "image/png": "[encoded data removed]",
      "text/plain": [
       "<Figure size 640x480 with 1 Axes>"
      ]
     },
     "metadata": {},
     "output_type": "display_data"
    },
    {
     "name": "stdout",
     "output_type": "stream",
     "text": [
      "is_fraud\n",
      "0    0.980052\n",
      "1    0.019948\n",
      "Name: proportion, dtype: float64\n"
     ]
    }
   ],
   "source": [
    "sns.countplot(x='is_fraud', data=df)\n",
    "plt.title(\"Fraud vs Legitimate Transactions\")\n",
    "plt.show()\n",
    "\n",
    "print(df['is_fraud'].value_counts(normalize=True))"
   ]
  },
  {
   "cell_type": "code",
   "execution_count": 34,
   "id": "ded90b30",
   "metadata": {},
   "outputs": [
    {
     "data": {
      "image/png": "[encoded data removed]",
      "text/plain": [
       "<Figure size 640x480 with 1 Axes>"
      ]
     },
     "metadata": {},
     "output_type": "display_data"
    },
    {
     "name": "stdout",
     "output_type": "stream",
     "text": [
      "merchant\n",
      "Bet365              0.045912\n",
      "Casino Royale       0.045553\n",
      "PokerStars          0.045406\n",
      "AT&T                0.034842\n",
      "Electric Company    0.034637\n",
      "                      ...   \n",
      "Verozon             0.000002\n",
      "Starbuzks           0.000002\n",
      "Best auy            0.000002\n",
      "xisney+             0.000002\n",
      "Spjtify             0.000002\n",
      "Name: proportion, Length: 3289, dtype: float64\n"
     ]
    }
   ],
   "source": [
    "sns.countplot(x='merchant', data=df)\n",
    "plt.title(\"Count plot of merchent\")\n",
    "plt.show()\n",
    "\n",
    "print(df['merchant'].value_counts(normalize=True))"
   ]
  },
  {
   "cell_type": "markdown",
   "id": "ffd8c1b2",
   "metadata": {},
   "source": [
    "### There are too many merchant so I need to drop this feature. "
   ]
  },
  {
   "cell_type": "code",
   "execution_count": 35,
   "id": "ab0c8fbe",
   "metadata": {},
   "outputs": [],
   "source": [
    "df = df.drop(columns=['merchant'], axis =1)"
   ]
  },
  {
   "cell_type": "code",
   "execution_count": 36,
   "id": "65f3c290",
   "metadata": {},
   "outputs": [
    {
     "data": {
      "text/html": [
       "<div>\n",
       "<style scoped>\n",
       "    .dataframe tbody tr th:only-of-type {\n",
       "        vertical-align: middle;\n",
       "    }\n",
       "\n",
       "    .dataframe tbody tr th {\n",
       "        vertical-align: top;\n",
       "    }\n",
       "\n",
       "    .dataframe thead th {\n",
       "        text-align: right;\n",
       "    }\n",
       "</style>\n",
       "<table border=\"1\" class=\"dataframe\">\n",
       "  <thead>\n",
       "    <tr style=\"text-align: right;\">\n",
       "      <th></th>\n",
       "      <th>amount</th>\n",
       "      <th>category</th>\n",
       "      <th>payment_method</th>\n",
       "      <th>account_type</th>\n",
       "      <th>device_info</th>\n",
       "      <th>is_fraud</th>\n",
       "      <th>year</th>\n",
       "      <th>month</th>\n",
       "    </tr>\n",
       "  </thead>\n",
       "  <tbody>\n",
       "    <tr>\n",
       "      <th>0</th>\n",
       "      <td>1097.00</td>\n",
       "      <td>Bills</td>\n",
       "      <td>UPI</td>\n",
       "      <td>Business</td>\n",
       "      <td>Tablet</td>\n",
       "      <td>0</td>\n",
       "      <td>2023</td>\n",
       "      <td>5</td>\n",
       "    </tr>\n",
       "    <tr>\n",
       "      <th>1</th>\n",
       "      <td>736.67</td>\n",
       "      <td>Travel</td>\n",
       "      <td>UPI</td>\n",
       "      <td>Credit</td>\n",
       "      <td>Android</td>\n",
       "      <td>0</td>\n",
       "      <td>2025</td>\n",
       "      <td>3</td>\n",
       "    </tr>\n",
       "    <tr>\n",
       "      <th>2</th>\n",
       "      <td>503.83</td>\n",
       "      <td>Bills</td>\n",
       "      <td>Credit Card</td>\n",
       "      <td>Business</td>\n",
       "      <td>iPhone</td>\n",
       "      <td>0</td>\n",
       "      <td>2024</td>\n",
       "      <td>3</td>\n",
       "    </tr>\n",
       "    <tr>\n",
       "      <th>3</th>\n",
       "      <td>776.28</td>\n",
       "      <td>Travel</td>\n",
       "      <td>Debit Card</td>\n",
       "      <td>Business</td>\n",
       "      <td>Tablet</td>\n",
       "      <td>0</td>\n",
       "      <td>2025</td>\n",
       "      <td>1</td>\n",
       "    </tr>\n",
       "    <tr>\n",
       "      <th>4</th>\n",
       "      <td>305.88</td>\n",
       "      <td>Bills</td>\n",
       "      <td>UPI</td>\n",
       "      <td>Credit</td>\n",
       "      <td>iPhone</td>\n",
       "      <td>0</td>\n",
       "      <td>2023</td>\n",
       "      <td>10</td>\n",
       "    </tr>\n",
       "  </tbody>\n",
       "</table>\n",
       "</div>"
      ],
      "text/plain": [
       "    amount category payment_method account_type device_info  is_fraud  year  \\\n",
       "0  1097.00    Bills            UPI     Business      Tablet         0  2023   \n",
       "1   736.67   Travel            UPI       Credit     Android         0  2025   \n",
       "2   503.83    Bills    Credit Card     Business      iPhone         0  2024   \n",
       "3   776.28   Travel     Debit Card     Business      Tablet         0  2025   \n",
       "4   305.88    Bills            UPI       Credit      iPhone         0  2023   \n",
       "\n",
       "   month  \n",
       "0      5  \n",
       "1      3  \n",
       "2      3  \n",
       "3      1  \n",
       "4     10  "
      ]
     },
     "execution_count": 36,
     "metadata": {},
     "output_type": "execute_result"
    }
   ],
   "source": [
    "df.head()"
   ]
  },
  {
   "cell_type": "code",
   "execution_count": 37,
   "id": "2888fc94",
   "metadata": {},
   "outputs": [
    {
     "data": {
      "image/png": "[encoded data removed]",
      "text/plain": [
       "<Figure size 640x480 with 1 Axes>"
      ]
     },
     "metadata": {},
     "output_type": "display_data"
    },
    {
     "name": "stdout",
     "output_type": "stream",
     "text": [
      "category\n",
      "Bills            0.143904\n",
      "Food             0.143076\n",
      "Shopping         0.143052\n",
      "Travel           0.142794\n",
      "Gambling         0.142559\n",
      "Crypto           0.142476\n",
      "Entertainment    0.142138\n",
      "Name: proportion, dtype: float64\n"
     ]
    }
   ],
   "source": [
    "sns.countplot(x='category', data=df)\n",
    "plt.title(\"Count plot of category\")\n",
    "plt.show()\n",
    "\n",
    "print(df['category'].value_counts(normalize=True))"
   ]
  },
  {
   "cell_type": "code",
   "execution_count": 38,
   "id": "2d2e57be",
   "metadata": {},
   "outputs": [
    {
     "data": {
      "image/png": "[encoded data removed]",
      "text/plain": [
       "<Figure size 640x480 with 1 Axes>"
      ]
     },
     "metadata": {},
     "output_type": "display_data"
    },
    {
     "name": "stdout",
     "output_type": "stream",
     "text": [
      "payment_method\n",
      "Debit Card     0.200868\n",
      "Credit Card    0.200469\n",
      "Cash           0.199899\n",
      "Crypto         0.199506\n",
      "UPI            0.199259\n",
      "Name: proportion, dtype: float64\n"
     ]
    }
   ],
   "source": [
    "sns.countplot(x='payment_method', data=df)\n",
    "plt.title(\"Count plot of merchent\")\n",
    "plt.show()\n",
    "\n",
    "print(df['payment_method'].value_counts(normalize=True))"
   ]
  },
  {
   "cell_type": "code",
   "execution_count": 39,
   "id": "9e0daa54",
   "metadata": {},
   "outputs": [
    {
     "data": {
      "image/png": "[encoded data removed]",
      "text/plain": [
       "<Figure size 640x480 with 1 Axes>"
      ]
     },
     "metadata": {},
     "output_type": "display_data"
    },
    {
     "name": "stdout",
     "output_type": "stream",
     "text": [
      "account_type\n",
      "Credit      0.250368\n",
      "Savings     0.250237\n",
      "Business    0.250082\n",
      "Checking    0.249313\n",
      "Name: proportion, dtype: float64\n"
     ]
    }
   ],
   "source": [
    "sns.countplot(x='account_type', data=df)\n",
    "plt.title(\"Count plot of merchent\")\n",
    "plt.show()\n",
    "\n",
    "print(df['account_type'].value_counts(normalize=True))"
   ]
  },
  {
   "cell_type": "code",
   "execution_count": 40,
   "id": "ed03f91b",
   "metadata": {},
   "outputs": [
    {
     "data": {
      "image/png": "[encoded data removed]",
      "text/plain": [
       "<Figure size 640x480 with 1 Axes>"
      ]
     },
     "metadata": {},
     "output_type": "display_data"
    },
    {
     "name": "stdout",
     "output_type": "stream",
     "text": [
      "device_info\n",
      "Tablet        0.200642\n",
      "Web           0.200539\n",
      "iPhone        0.200336\n",
      "Smartwatch    0.199659\n",
      "Android       0.198824\n",
      "Name: proportion, dtype: float64\n"
     ]
    }
   ],
   "source": [
    "sns.countplot(x='device_info', data=df)\n",
    "plt.title(\"Count plot of device_info\")\n",
    "plt.show()\n",
    "\n",
    "print(df['device_info'].value_counts(normalize=True))"
   ]
  },
  {
   "cell_type": "markdown",
   "id": "5b18b9b1",
   "metadata": {},
   "source": [
    "## Checking for outliers"
   ]
  },
  {
   "cell_type": "code",
   "execution_count": 41,
   "id": "558c1a14",
   "metadata": {},
   "outputs": [
    {
     "data": {
      "image/png": "[encoded data removed]",
      "text/plain": [
       "<Figure size 1000x400 with 1 Axes>"
      ]
     },
     "metadata": {},
     "output_type": "display_data"
    }
   ],
   "source": [
    "plt.figure(figsize=(10, 4))\n",
    "sns.boxplot(x=df['amount'])\n",
    "plt.title(\"Boxplot of Transaction Amount\")\n",
    "plt.show()"
   ]
  },
  {
   "cell_type": "markdown",
   "id": "676cb1f9",
   "metadata": {},
   "source": [
    "### Create a new binary column to label outliers"
   ]
  },
  {
   "cell_type": "code",
   "execution_count": 44,
   "id": "9a7e56f8",
   "metadata": {},
   "outputs": [
    {
     "data": {
      "text/html": [
       "<div>\n",
       "<style scoped>\n",
       "    .dataframe tbody tr th:only-of-type {\n",
       "        vertical-align: middle;\n",
       "    }\n",
       "\n",
       "    .dataframe tbody tr th {\n",
       "        vertical-align: top;\n",
       "    }\n",
       "\n",
       "    .dataframe thead th {\n",
       "        text-align: right;\n",
       "    }\n",
       "</style>\n",
       "<table border=\"1\" class=\"dataframe\">\n",
       "  <thead>\n",
       "    <tr style=\"text-align: right;\">\n",
       "      <th></th>\n",
       "      <th>amount</th>\n",
       "      <th>category</th>\n",
       "      <th>payment_method</th>\n",
       "      <th>account_type</th>\n",
       "      <th>device_info</th>\n",
       "      <th>is_fraud</th>\n",
       "      <th>year</th>\n",
       "      <th>month</th>\n",
       "      <th>amount_outlier</th>\n",
       "    </tr>\n",
       "  </thead>\n",
       "  <tbody>\n",
       "    <tr>\n",
       "      <th>0</th>\n",
       "      <td>1097.00</td>\n",
       "      <td>Bills</td>\n",
       "      <td>UPI</td>\n",
       "      <td>Business</td>\n",
       "      <td>Tablet</td>\n",
       "      <td>0</td>\n",
       "      <td>2023</td>\n",
       "      <td>5</td>\n",
       "      <td>0</td>\n",
       "    </tr>\n",
       "    <tr>\n",
       "      <th>1</th>\n",
       "      <td>736.67</td>\n",
       "      <td>Travel</td>\n",
       "      <td>UPI</td>\n",
       "      <td>Credit</td>\n",
       "      <td>Android</td>\n",
       "      <td>0</td>\n",
       "      <td>2025</td>\n",
       "      <td>3</td>\n",
       "      <td>0</td>\n",
       "    </tr>\n",
       "    <tr>\n",
       "      <th>2</th>\n",
       "      <td>503.83</td>\n",
       "      <td>Bills</td>\n",
       "      <td>Credit Card</td>\n",
       "      <td>Business</td>\n",
       "      <td>iPhone</td>\n",
       "      <td>0</td>\n",
       "      <td>2024</td>\n",
       "      <td>3</td>\n",
       "      <td>0</td>\n",
       "    </tr>\n",
       "    <tr>\n",
       "      <th>3</th>\n",
       "      <td>776.28</td>\n",
       "      <td>Travel</td>\n",
       "      <td>Debit Card</td>\n",
       "      <td>Business</td>\n",
       "      <td>Tablet</td>\n",
       "      <td>0</td>\n",
       "      <td>2025</td>\n",
       "      <td>1</td>\n",
       "      <td>0</td>\n",
       "    </tr>\n",
       "    <tr>\n",
       "      <th>4</th>\n",
       "      <td>305.88</td>\n",
       "      <td>Bills</td>\n",
       "      <td>UPI</td>\n",
       "      <td>Credit</td>\n",
       "      <td>iPhone</td>\n",
       "      <td>0</td>\n",
       "      <td>2023</td>\n",
       "      <td>10</td>\n",
       "      <td>0</td>\n",
       "    </tr>\n",
       "  </tbody>\n",
       "</table>\n",
       "</div>"
      ],
      "text/plain": [
       "    amount category payment_method account_type device_info  is_fraud  year  \\\n",
       "0  1097.00    Bills            UPI     Business      Tablet         0  2023   \n",
       "1   736.67   Travel            UPI       Credit     Android         0  2025   \n",
       "2   503.83    Bills    Credit Card     Business      iPhone         0  2024   \n",
       "3   776.28   Travel     Debit Card     Business      Tablet         0  2025   \n",
       "4   305.88    Bills            UPI       Credit      iPhone         0  2023   \n",
       "\n",
       "   month  amount_outlier  \n",
       "0      5               0  \n",
       "1      3               0  \n",
       "2      3               0  \n",
       "3      1               0  \n",
       "4     10               0  "
      ]
     },
     "execution_count": 44,
     "metadata": {},
     "output_type": "execute_result"
    }
   ],
   "source": [
    "# Using IQR method\n",
    "Q1 = df['amount'].quantile(0.25)\n",
    "Q3 = df['amount'].quantile(0.75)\n",
    "IQR = Q3 - Q1\n",
    "\n",
    "# Outlier thresholds\n",
    "lower_bound = Q1 - 1.5 * IQR\n",
    "upper_bound = Q3 + 1.5 * IQR\n",
    "\n",
    "# Check number of outliers\n",
    "df['amount_outlier'] = ((df['amount'] < lower_bound) | (df['amount'] > upper_bound)).astype(int)\n",
    "df.head()"
   ]
  },
  {
   "cell_type": "markdown",
   "id": "22c3b64f",
   "metadata": {},
   "source": [
    "## Correlation Matrix"
   ]
  },
  {
   "cell_type": "code",
   "execution_count": 45,
   "id": "14340ee8",
   "metadata": {},
   "outputs": [
    {
     "data": {
      "image/png": "[encoded data removed]",
      "text/plain": [
       "<Figure size 1000x600 with 2 Axes>"
      ]
     },
     "metadata": {},
     "output_type": "display_data"
    }
   ],
   "source": [
    "plt.figure(figsize=(10, 6))\n",
    "sns.heatmap(df.select_dtypes(include='number').corr(), annot=True, cmap='coolwarm')\n",
    "plt.title(\"Correlation Matrix\")\n",
    "plt.show()"
   ]
  },
  {
   "cell_type": "markdown",
   "id": "eecfe10b",
   "metadata": {},
   "source": [
    "## Trends Over Time"
   ]
  },
  {
   "cell_type": "code",
   "execution_count": 46,
   "id": "6e6f98fc",
   "metadata": {},
   "outputs": [
    {
     "data": {
      "image/png": "[encoded data removed]",
      "text/plain": [
       "<Figure size 1200x500 with 1 Axes>"
      ]
     },
     "metadata": {},
     "output_type": "display_data"
    }
   ],
   "source": [
    "monthly_trend = df.groupby(df['month']).size()\n",
    "\n",
    "monthly_trend.plot(kind='line', marker='o', figsize=(12, 5), title=\"Monthly Transactions Trend\")\n",
    "plt.ylabel(\"Number of Transactions\")\n",
    "plt.xlabel(\"Month\")\n",
    "plt.show()"
   ]
  },
  {
   "cell_type": "code",
   "execution_count": 47,
   "id": "376b3765",
   "metadata": {},
   "outputs": [
    {
     "data": {
      "image/png": "[encoded data removed]",
      "text/plain": [
       "<Figure size 1200x500 with 1 Axes>"
      ]
     },
     "metadata": {},
     "output_type": "display_data"
    }
   ],
   "source": [
    "monthly_fraud = df[df['is_fraud'] == 1].groupby(df['month']).size()\n",
    "\n",
    "monthly_fraud.plot(kind='line', marker='o', figsize=(12, 5), color='red', title=\"Monthly Fraudulent Transactions Trend\")\n",
    "plt.ylabel(\"Number of Fraud Transactions\")\n",
    "plt.xlabel(\"Month\")\n",
    "plt.show()"
   ]
  },
  {
   "cell_type": "markdown",
   "id": "ce7ede6b",
   "metadata": {},
   "source": [
    "### Inspecting frauds grouped by Merchants"
   ]
  },
  {
   "cell_type": "code",
   "execution_count": 56,
   "id": "bf2d960f",
   "metadata": {},
   "outputs": [
    {
     "data": {
      "image/png": "[encoded data removed]",
      "text/plain": [
       "<Figure size 1000x600 with 1 Axes>"
      ]
     },
     "metadata": {},
     "output_type": "display_data"
    }
   ],
   "source": [
    "fraud_by_merchant = df[df['is_fraud'] == 1]['category'].value_counts()\n",
    "\n",
    "fraud_by_merchant.plot(kind='barh', color='crimson', title=\"Categories with Number Of Frauds\", figsize=(10, 6))\n",
    "plt.xlabel(\"Number of Fraudulent Transactions\")\n",
    "plt.show()"
   ]
  },
  {
   "cell_type": "code",
   "execution_count": 58,
   "id": "2ba5bbc5",
   "metadata": {},
   "outputs": [
    {
     "data": {
      "image/png": "[encoded data removed]",
      "text/plain": [
       "<Figure size 1000x600 with 1 Axes>"
      ]
     },
     "metadata": {},
     "output_type": "display_data"
    }
   ],
   "source": [
    "fraud_by_merchant = df[df['is_fraud'] == 1]['payment_method'].value_counts()\n",
    "\n",
    "fraud_by_merchant.plot(kind='barh', color='crimson', title=\"Payment Methods with Frauds\", figsize=(10, 6))\n",
    "plt.xlabel(\"Number of Fraudulent Transactions\")\n",
    "plt.show()"
   ]
  },
  {
   "cell_type": "code",
   "execution_count": 59,
   "id": "d2df92c5",
   "metadata": {},
   "outputs": [
    {
     "data": {
      "image/png": "[encoded data removed]",
      "text/plain": [
       "<Figure size 1000x600 with 1 Axes>"
      ]
     },
     "metadata": {},
     "output_type": "display_data"
    }
   ],
   "source": [
    "fraud_by_merchant = df[df['is_fraud'] == 1]['account_type'].value_counts()\n",
    "\n",
    "fraud_by_merchant.plot(kind='barh', color='crimson', title=\"Account Types with Frauds\", figsize=(10, 6))\n",
    "plt.xlabel(\"Number of Fraudulent Transactions\")\n",
    "plt.show()"
   ]
  },
  {
   "cell_type": "code",
   "execution_count": 60,
   "id": "94375473",
   "metadata": {},
   "outputs": [
    {
     "data": {
      "text/plain": [
       "Index(['amount', 'category', 'payment_method', 'account_type', 'device_info',\n",
       "       'is_fraud', 'year', 'month', 'amount_outlier'],\n",
       "      dtype='object')"
      ]
     },
     "execution_count": 60,
     "metadata": {},
     "output_type": "execute_result"
    }
   ],
   "source": [
    "df.columns"
   ]
  },
  {
   "cell_type": "markdown",
   "id": "008192b9",
   "metadata": {},
   "source": [
    "## Handling categeorical Columns"
   ]
  },
  {
   "cell_type": "code",
   "execution_count": 63,
   "id": "bd7b49b2",
   "metadata": {},
   "outputs": [
    {
     "data": {
      "text/html": [
       "<div>\n",
       "<style scoped>\n",
       "    .dataframe tbody tr th:only-of-type {\n",
       "        vertical-align: middle;\n",
       "    }\n",
       "\n",
       "    .dataframe tbody tr th {\n",
       "        vertical-align: top;\n",
       "    }\n",
       "\n",
       "    .dataframe thead th {\n",
       "        text-align: right;\n",
       "    }\n",
       "</style>\n",
       "<table border=\"1\" class=\"dataframe\">\n",
       "  <thead>\n",
       "    <tr style=\"text-align: right;\">\n",
       "      <th></th>\n",
       "      <th>amount</th>\n",
       "      <th>is_fraud</th>\n",
       "      <th>year</th>\n",
       "      <th>month</th>\n",
       "      <th>amount_outlier</th>\n",
       "      <th>category_Crypto</th>\n",
       "      <th>category_Entertainment</th>\n",
       "      <th>category_Food</th>\n",
       "      <th>category_Gambling</th>\n",
       "      <th>category_Shopping</th>\n",
       "      <th>...</th>\n",
       "      <th>payment_method_Crypto</th>\n",
       "      <th>payment_method_Debit Card</th>\n",
       "      <th>payment_method_UPI</th>\n",
       "      <th>account_type_Checking</th>\n",
       "      <th>account_type_Credit</th>\n",
       "      <th>account_type_Savings</th>\n",
       "      <th>device_info_Smartwatch</th>\n",
       "      <th>device_info_Tablet</th>\n",
       "      <th>device_info_Web</th>\n",
       "      <th>device_info_iPhone</th>\n",
       "    </tr>\n",
       "  </thead>\n",
       "  <tbody>\n",
       "    <tr>\n",
       "      <th>0</th>\n",
       "      <td>1097.00</td>\n",
       "      <td>0</td>\n",
       "      <td>2023</td>\n",
       "      <td>5</td>\n",
       "      <td>0</td>\n",
       "      <td>0.0</td>\n",
       "      <td>0.0</td>\n",
       "      <td>0.0</td>\n",
       "      <td>0.0</td>\n",
       "      <td>0.0</td>\n",
       "      <td>...</td>\n",
       "      <td>0.0</td>\n",
       "      <td>0.0</td>\n",
       "      <td>1.0</td>\n",
       "      <td>0.0</td>\n",
       "      <td>0.0</td>\n",
       "      <td>0.0</td>\n",
       "      <td>0.0</td>\n",
       "      <td>1.0</td>\n",
       "      <td>0.0</td>\n",
       "      <td>0.0</td>\n",
       "    </tr>\n",
       "    <tr>\n",
       "      <th>1</th>\n",
       "      <td>736.67</td>\n",
       "      <td>0</td>\n",
       "      <td>2025</td>\n",
       "      <td>3</td>\n",
       "      <td>0</td>\n",
       "      <td>0.0</td>\n",
       "      <td>0.0</td>\n",
       "      <td>0.0</td>\n",
       "      <td>0.0</td>\n",
       "      <td>0.0</td>\n",
       "      <td>...</td>\n",
       "      <td>0.0</td>\n",
       "      <td>0.0</td>\n",
       "      <td>1.0</td>\n",
       "      <td>0.0</td>\n",
       "      <td>1.0</td>\n",
       "      <td>0.0</td>\n",
       "      <td>0.0</td>\n",
       "      <td>0.0</td>\n",
       "      <td>0.0</td>\n",
       "      <td>0.0</td>\n",
       "    </tr>\n",
       "    <tr>\n",
       "      <th>2</th>\n",
       "      <td>503.83</td>\n",
       "      <td>0</td>\n",
       "      <td>2024</td>\n",
       "      <td>3</td>\n",
       "      <td>0</td>\n",
       "      <td>0.0</td>\n",
       "      <td>0.0</td>\n",
       "      <td>0.0</td>\n",
       "      <td>0.0</td>\n",
       "      <td>0.0</td>\n",
       "      <td>...</td>\n",
       "      <td>0.0</td>\n",
       "      <td>0.0</td>\n",
       "      <td>0.0</td>\n",
       "      <td>0.0</td>\n",
       "      <td>0.0</td>\n",
       "      <td>0.0</td>\n",
       "      <td>0.0</td>\n",
       "      <td>0.0</td>\n",
       "      <td>0.0</td>\n",
       "      <td>1.0</td>\n",
       "    </tr>\n",
       "    <tr>\n",
       "      <th>3</th>\n",
       "      <td>776.28</td>\n",
       "      <td>0</td>\n",
       "      <td>2025</td>\n",
       "      <td>1</td>\n",
       "      <td>0</td>\n",
       "      <td>0.0</td>\n",
       "      <td>0.0</td>\n",
       "      <td>0.0</td>\n",
       "      <td>0.0</td>\n",
       "      <td>0.0</td>\n",
       "      <td>...</td>\n",
       "      <td>0.0</td>\n",
       "      <td>1.0</td>\n",
       "      <td>0.0</td>\n",
       "      <td>0.0</td>\n",
       "      <td>0.0</td>\n",
       "      <td>0.0</td>\n",
       "      <td>0.0</td>\n",
       "      <td>1.0</td>\n",
       "      <td>0.0</td>\n",
       "      <td>0.0</td>\n",
       "    </tr>\n",
       "    <tr>\n",
       "      <th>4</th>\n",
       "      <td>305.88</td>\n",
       "      <td>0</td>\n",
       "      <td>2023</td>\n",
       "      <td>10</td>\n",
       "      <td>0</td>\n",
       "      <td>0.0</td>\n",
       "      <td>0.0</td>\n",
       "      <td>0.0</td>\n",
       "      <td>0.0</td>\n",
       "      <td>0.0</td>\n",
       "      <td>...</td>\n",
       "      <td>0.0</td>\n",
       "      <td>0.0</td>\n",
       "      <td>1.0</td>\n",
       "      <td>0.0</td>\n",
       "      <td>1.0</td>\n",
       "      <td>0.0</td>\n",
       "      <td>0.0</td>\n",
       "      <td>0.0</td>\n",
       "      <td>0.0</td>\n",
       "      <td>1.0</td>\n",
       "    </tr>\n",
       "  </tbody>\n",
       "</table>\n",
       "<p>5 rows × 22 columns</p>\n",
       "</div>"
      ],
      "text/plain": [
       "    amount  is_fraud  year  month  amount_outlier  category_Crypto  \\\n",
       "0  1097.00         0  2023      5               0              0.0   \n",
       "1   736.67         0  2025      3               0              0.0   \n",
       "2   503.83         0  2024      3               0              0.0   \n",
       "3   776.28         0  2025      1               0              0.0   \n",
       "4   305.88         0  2023     10               0              0.0   \n",
       "\n",
       "   category_Entertainment  category_Food  category_Gambling  \\\n",
       "0                     0.0            0.0                0.0   \n",
       "1                     0.0            0.0                0.0   \n",
       "2                     0.0            0.0                0.0   \n",
       "3                     0.0            0.0                0.0   \n",
       "4                     0.0            0.0                0.0   \n",
       "\n",
       "   category_Shopping  ...  payment_method_Crypto  payment_method_Debit Card  \\\n",
       "0                0.0  ...                    0.0                        0.0   \n",
       "1                0.0  ...                    0.0                        0.0   \n",
       "2                0.0  ...                    0.0                        0.0   \n",
       "3                0.0  ...                    0.0                        1.0   \n",
       "4                0.0  ...                    0.0                        0.0   \n",
       "\n",
       "   payment_method_UPI  account_type_Checking  account_type_Credit  \\\n",
       "0                 1.0                    0.0                  0.0   \n",
       "1                 1.0                    0.0                  1.0   \n",
       "2                 0.0                    0.0                  0.0   \n",
       "3                 0.0                    0.0                  0.0   \n",
       "4                 1.0                    0.0                  1.0   \n",
       "\n",
       "   account_type_Savings  device_info_Smartwatch  device_info_Tablet  \\\n",
       "0                   0.0                     0.0                 1.0   \n",
       "1                   0.0                     0.0                 0.0   \n",
       "2                   0.0                     0.0                 0.0   \n",
       "3                   0.0                     0.0                 1.0   \n",
       "4                   0.0                     0.0                 0.0   \n",
       "\n",
       "   device_info_Web  device_info_iPhone  \n",
       "0              0.0                 0.0  \n",
       "1              0.0                 0.0  \n",
       "2              0.0                 1.0  \n",
       "3              0.0                 0.0  \n",
       "4              0.0                 1.0  \n",
       "\n",
       "[5 rows x 22 columns]"
      ]
     },
     "execution_count": 63,
     "metadata": {},
     "output_type": "execute_result"
    }
   ],
   "source": [
    "from sklearn.preprocessing import OneHotEncoder\n",
    "\n",
    "encoder = OneHotEncoder(sparse_output=False, drop='first')\n",
    "\n",
    "cat_cols = ['category', 'payment_method', 'account_type', 'device_info']\n",
    "encoded = encoder.fit_transform(df[cat_cols])\n",
    "\n",
    "encoded_df = pd.DataFrame(encoded, columns=encoder.get_feature_names_out(cat_cols))\n",
    "\n",
    "df = df.drop(cat_cols, axis=1)\n",
    "df = pd.concat([df.reset_index(drop=True), encoded_df.reset_index(drop=True)], axis=1)\n",
    "df.head()"
   ]
  },
  {
   "cell_type": "code",
   "execution_count": 64,
   "id": "efba5b77",
   "metadata": {},
   "outputs": [
    {
     "data": {
      "text/plain": [
       "(496581, 22)"
      ]
     },
     "execution_count": 64,
     "metadata": {},
     "output_type": "execute_result"
    }
   ],
   "source": [
    "df.shape"
   ]
  }
 ],
 "metadata": {
  "kernelspec": {
   "display_name": "Python 3",
   "language": "python",
   "name": "python3"
  },
  "language_info": {
   "codemirror_mode": {
    "name": "ipython",
    "version": 3
   },
   "file_extension": ".py",
   "mimetype": "text/x-python",
   "name": "python",
   "nbconvert_exporter": "python",
   "pygments_lexer": "ipython3",
   "version": "3.10.0"
  }
 },
 "nbformat": 4,
 "nbformat_minor": 5
}
